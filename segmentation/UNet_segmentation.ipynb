{
 "cells": [
  {
   "cell_type": "markdown",
   "metadata": {
    "colab_type": "text",
    "id": "DhLlS5JkHe9i"
   },
   "source": [
    "# U-Net Segmentation\n",
    "\n",
    "A more sophisticated approach is needed to segment the wires from the images. Multiple ones are available but the first one used is the U-Net. \n",
    "\n"
   ]
  },
  {
   "cell_type": "code",
   "execution_count": 1,
   "metadata": {
    "colab": {
     "base_uri": "https://localhost:8080/",
     "height": 34
    },
    "colab_type": "code",
    "id": "k0nBAUVFHe9u",
    "outputId": "c60e38ff-ddc9-478c-a8e2-65640275f8b1"
   },
   "outputs": [
    {
     "name": "stdout",
     "output_type": "stream",
     "text": [
      "Using cpu ...\n"
     ]
    }
   ],
   "source": [
    "# import modules (download with pip install first if not on local. Type on terminal: pip install <module name>)\n",
    "import torch\n",
    "import torch.nn as nn\n",
    "import torch.nn.functional as F #contains some useful functions like activation functions & convolution operations you can use\n",
    "import numpy as np\n",
    "\n",
    "# install torchvision first\n",
    "\n",
    "device = torch.device(\"cuda: 0\" if torch.cuda.is_available() else \"cpu\")\n",
    "print(\"Using\",device,\"...\")"
   ]
  },
  {
   "cell_type": "markdown",
   "metadata": {},
   "source": [
    "## Dataset"
   ]
  },
  {
   "cell_type": "code",
   "execution_count": 2,
   "metadata": {
    "colab": {},
    "colab_type": "code",
    "id": "6oAL36EJHe8P"
   },
   "outputs": [],
   "source": [
    "from load_data import *\n",
    "# X, y = load_data('/content/drive/My Drive/AIWIRE', 'dataset')\n",
    "# X, y = load_data('.', 'small_dataset')\n",
    "X, y = load_data('.', 'data/iteration_1_dataset')"
   ]
  },
  {
   "cell_type": "code",
   "execution_count": 3,
   "metadata": {
    "colab": {
     "base_uri": "https://localhost:8080/",
     "height": 34
    },
    "colab_type": "code",
    "id": "5oPqkXM8He96",
    "outputId": "1310af7c-6e61-4e14-d53f-c7d6feca4c67"
   },
   "outputs": [
    {
     "name": "stdout",
     "output_type": "stream",
     "text": [
      "{'train': 1600, 'val': 400}\n"
     ]
    }
   ],
   "source": [
    "import dataset\n",
    "from sklearn.model_selection import train_test_split\n",
    "\n",
    "batch_size = 50\n",
    "X_train, X_test, y_train, y_test = train_test_split(X, y, test_size=0.2)\n",
    "dataloaders = dataset.gen_dataloaders(X_train, X_test, y_train, y_test, batch_size)"
   ]
  },
  {
   "cell_type": "code",
   "execution_count": null,
   "metadata": {},
   "outputs": [],
   "source": [
    "from scipy.ndimage import gaussian_filter\n",
    "\n",
    "def norm(im):\n",
    "    im -= im.min()\n",
    "    im = im / im.max()\n",
    "    return im\n",
    "\n",
    "def modify_gts(gts):\n",
    "    gts_smoothed = [(norm(gaussian_filter(gt, sigma = 0.4)) > 0.01).astype(np.int) for gt in gts]\n",
    "#     gts = [(1 - gaussian_filter(gt, sigma = 5)) ** (-0.03) for gt in gts]\n",
    "#     for i in range(len(gts_smoothed)):\n",
    "#         gt = gts_smoothed[i]\n",
    "# #         gt[gt > 0] = (1 - gt[gt > 0]) ** (-3)\n",
    "#         gts_smoothed[i] = gt - np.min(gt)\n",
    "#         gts_smoothed[i] = gt / np.max(gt)\n",
    "    return gts_smoothed"
   ]
  },
  {
   "cell_type": "code",
   "execution_count": null,
   "metadata": {},
   "outputs": [],
   "source": [
    "import matplotlib.pyplot as plt\n",
    "\n",
    "loss_function = nn.MSELoss()\n",
    "\n",
    "def show(im):\n",
    "    plt.imshow(im, cmap='gray')\n",
    "    plt.axis('off')\n",
    "\n",
    "print(dataloaders['train'])\n",
    "n = 3\n",
    "first_batch = next(iter(dataloaders['train']))\n",
    "\n",
    "ims = first_batch[0][:n]\n",
    "gts_thin = first_batch[1][:n]\n",
    "gts = modify_gts(gts_thin)\n",
    "# gts = first_batch[1][:n].numpy()\n",
    "\n",
    "print(gts[0].shape)\n",
    "h2 = plt.hist(gts[0].reshape(-1,1), bins = 40, density = True, alpha=1)\n",
    "plt.show()\n",
    "h2 = plt.hist(ims[0].numpy().reshape(-1,1), bins = 40, density = True, alpha=1)\n",
    "plt.show()\n",
    "\n",
    "for [im], gt in zip(ims, gts):\n",
    "    plt.figure(figsize=[5]*2)\n",
    "    plt.subplot(121)\n",
    "    show(im)\n",
    "\n",
    "    plt.subplot(122)\n",
    "    show(gt)\n",
    "\n",
    "    base_loss = loss_function(torch.Tensor(np.ones(gt.shape) * np.average(gt)), torch.Tensor(gt))\n",
    "    print('Class balance (one sigma): ', 100 * np.sum((gt - np.std(gt)) > 0) / np.prod(gt.shape), '%')\n",
    "    print('Loss for null model:', base_loss.item())\n",
    "    \n",
    "    plt.show()"
   ]
  },
  {
   "cell_type": "markdown",
   "metadata": {},
   "source": [
    "## Model"
   ]
  },
  {
   "cell_type": "code",
   "execution_count": null,
   "metadata": {},
   "outputs": [],
   "source": [
    "# Get a batch of training data\n",
    "inputs, masks = next(iter(dataloaders['train']))\n",
    "\n",
    "print(inputs.shape, masks.shape)\n",
    "print(inputs.dtype, masks.dtype)\n",
    "\n",
    "for x in [inputs.numpy(), masks.numpy()]:\n",
    "    print(x.min(), x.max(), x.mean(), x.std())\n",
    "\n",
    "# install torchsummary first\n",
    "from torchsummary import summary\n",
    "# import model from python file\n",
    "import Unet_pytorch\n",
    "import importlib\n",
    "importlib.reload(Unet_pytorch)\n",
    "\n",
    "model = Unet_pytorch.UNet(1)\n",
    "model = model.to(device)\n",
    "\n",
    "print(\"MODEL ARCHITECTURE ...\")\n",
    "summary(model, input_size=(1,128,64))\n",
    "\n",
    "save_path = './saved_models/model_1'"
   ]
  },
  {
   "cell_type": "markdown",
   "metadata": {},
   "source": [
    "## Training"
   ]
  },
  {
   "cell_type": "code",
   "execution_count": null,
   "metadata": {},
   "outputs": [],
   "source": [
    "from torch.utils.tensorboard import SummaryWriter\n",
    "import datetime\n",
    "writer = SummaryWriter('./logs/{0}'.format(datetime.datetime.now().strftime('%Y-%m-%d %H:%M:%S')))\n",
    "import matplotlib.gridspec as gridspec\n",
    "\n",
    "import matplotlib.pyplot as plt\n",
    "def visualise(outputs, title, n=7):\n",
    "    fig = plt.figure(figsize=[10, 3])\n",
    "    fig.suptitle(title, fontsize=14)\n",
    "    for i, output in enumerate(outputs[:n]):\n",
    "        plt.subplot(1,n,i+1)\n",
    "        plt.axis('off')\n",
    "        plt.imshow(output) if output.shape[0] == 3 else plt.imshow(output, cmap='gray')\n",
    "    plt.show()"
   ]
  },
  {
   "cell_type": "code",
   "execution_count": null,
   "metadata": {},
   "outputs": [],
   "source": [
    "from collections import defaultdict\n",
    "import torch.optim as optim\n",
    "from torch.optim import lr_scheduler\n",
    "\n",
    "import time\n",
    "import copy\n",
    "\n",
    "def train_model(model, optimizer, scheduler = None, num_epochs=25, train_stats_period=10):\n",
    "    best_loss = 1e10\n",
    "\n",
    "    for epoch in range(num_epochs):\n",
    "        print('Epoch {}/{}'.format(epoch, num_epochs - 1))\n",
    "        print('-' * 10)\n",
    "        \n",
    "        since = time.time()\n",
    "\n",
    "        # Each epoch has a training and validation phase\n",
    "        for phase in ['train', 'val']:\n",
    "            if phase == 'train':\n",
    "                scheduler.step() if scheduler is not None else None\n",
    "                for param_group in optimizer.param_groups:\n",
    "                    print(\"LR\", param_group['lr'])\n",
    "                    \n",
    "                model.train()  # Set model to training mode\n",
    "            else:\n",
    "                model.eval()   # Set model to evaluate mode\n",
    "\n",
    "            epoch_samples = 0\n",
    "            loss_vec = []\n",
    "\n",
    "            for batch_id, (inputs, labels) in enumerate(dataloaders[phase]):\n",
    "                inputs = inputs.to(device)\n",
    "                labels_mod = torch.Tensor(modify_gts(labels))\n",
    "                labels_mod = labels_mod.to(device)             \n",
    "\n",
    "                # zero the parameter gradients\n",
    "                optimizer.zero_grad()\n",
    "\n",
    "                # forward\n",
    "                # track history if only in train\n",
    "                with torch.set_grad_enabled(phase == 'train'):\n",
    "                    outputs = model(inputs.float())\n",
    "                    loss = loss_function(torch.squeeze(outputs), labels_mod.type(torch.float32))\n",
    "                    \n",
    "                    # backward + optimize only if in training phase\n",
    "                    if phase == 'train':\n",
    "                        loss.backward()\n",
    "                        optimizer.step()\n",
    "                        #print (loss.item())\n",
    "                    loss_vec.append(loss.item())  \n",
    "\n",
    "                    if batch_id % train_stats_period == 0:\n",
    "                        print('Batch', batch_id, ':', loss.item())\n",
    "\n",
    "                # statistics\n",
    "                epoch_samples += inputs.size(0)\n",
    "\n",
    "            # print loss at every epoch \n",
    "            epoch_loss = np.mean(np.asarray(loss_vec), dtype=np.float32)\n",
    "            #epoch_loss = np.mean(np.asarray(loss_vec), dtype=np.float32)/float(epoch_samples)\n",
    "            print('Loss ' + phase, ': {:.8f}'.format(epoch_loss))\n",
    "            writer.add_scalar('Loss ' + phase, epoch_loss, epoch)\n",
    "\n",
    "            if phase == 'val':\n",
    "                visualise(inputs.squeeze(1).cpu().numpy(), 'Simulated images')\n",
    "                preds = outputs.squeeze(1).cpu().numpy()\n",
    "                visualise(preds, 'Network catheter predictions')\n",
    "                colour_outputs = outputs.repeat(1, 3, 1, 1).permute(0, 2, 3, 1).cpu().numpy()\n",
    "                colour_outputs = norm(colour_outputs)\n",
    "                red_labels = np.zeros(colour_outputs.shape)\n",
    "                red_labels[:,:,:,0] = labels * (1.3 - preds)\n",
    "                red_labels[:,:,:,1] = labels * preds\n",
    "                overlay = colour_outputs + red_labels\n",
    "                overlay = norm(overlay)\n",
    "                visualise(overlay, 'Predictions with ground truth overlay')\n",
    "                \n",
    "            # deep copy the model\n",
    "            if phase == 'val' and epoch_loss < best_loss:\n",
    "                print(\"saving best model\")\n",
    "                best_loss = epoch_loss\n",
    "                torch.save(model.state_dict(), save_path)\n",
    "\n",
    "        time_elapsed = time.time() - since\n",
    "        print('{:.0f}m {:.0f}s'.format(time_elapsed // 60, time_elapsed % 60))\n",
    "    print('Best val loss: {:4f}'.format(best_loss))\n",
    "\n",
    "num_class = 1\n",
    "model = Unet_pytorch.UNet(num_class).float()\n",
    "model = model.to(device)\n",
    "\n",
    "optimizer_ft = optim.SGD(model.parameters(), lr = 0.01, momentum=0.9) \n",
    "\n",
    "# exp_lr_scheduler = lr_scheduler.StepLR(optimizer_ft, step_size=25, gamma=0.1)\n",
    "\n",
    "train_model(model, optimizer_ft, num_epochs=100)"
   ]
  },
  {
   "cell_type": "markdown",
   "metadata": {},
   "source": [
    "## Evaluate on <u>real</u> data"
   ]
  },
  {
   "cell_type": "code",
   "execution_count": null,
   "metadata": {},
   "outputs": [],
   "source": [
    "model.load_state_dict(torch.load(save_path))\n",
    "model = model.to(device)\n",
    "model.eval()\n",
    "\n",
    "def infer(model, im):\n",
    "    im = torch.Tensor(im).unsqueeze(0).unsqueeze(0).to(device)\n",
    "    return model(im).squeeze(0).squeeze(0).cpu().detach().numpy()\n",
    "\n",
    "print('Performance on real data')\n",
    "import imageio\n",
    "from PIL import Image\n",
    "gif = imageio.get_reader('cropped_gif.gif')\n",
    "test_im = np.array(list(gif))[100]\n",
    "test_im = np.array(Image.fromarray(test_im).resize([64, 128]))\n",
    "test_im = norm(test_im)\n",
    "# test_im = norm(np.array(Image.fromarray(test_im).resize([64, 128])))\n",
    "plt.subplot(121)\n",
    "show(test_im)\n",
    "plt.title('Real acquisition')\n",
    "\n",
    "# test_im = torch.Tensor(ims[0].float()).unsqueeze(0).to(device)\n",
    "test_pred = infer(model, test_im)\n",
    "plt.subplot(122)\n",
    "show(test_pred)\n",
    "plt.title('Predicted catheter \\nsegmentation')\n",
    "plt.show()"
   ]
  },
  {
   "cell_type": "markdown",
   "metadata": {},
   "source": [
    "### Testing skeletonisation"
   ]
  },
  {
   "cell_type": "code",
   "execution_count": null,
   "metadata": {},
   "outputs": [],
   "source": [
    "print('Skeletonisation')\n",
    "test_im = np.squeeze(ims[0]).float()\n",
    "from skimage.morphology import skeletonize\n",
    "plt.subplot(141)\n",
    "show(test_im)\n",
    "plt.title('Simulated\\n image')\n",
    "\n",
    "plt.subplot(144)\n",
    "show(np.squeeze(gts_thin[0]))\n",
    "plt.title('Ground truth')\n",
    "\n",
    "sim_pred = infer(model, test_im)\n",
    "plt.subplot(142)\n",
    "show(sim_pred > 0.5)\n",
    "plt.title('Predicted\\n segmentation')\n",
    "\n",
    "plt.subplot(143)\n",
    "show(skeletonize(sim_pred > 0.5))\n",
    "plt.title('Skeletonised')\n",
    "plt.show()"
   ]
  },
  {
   "cell_type": "code",
   "execution_count": null,
   "metadata": {},
   "outputs": [],
   "source": []
  }
 ],
 "metadata": {
  "kernelspec": {
   "display_name": "Python 3",
   "language": "python",
   "name": "python3"
  },
  "language_info": {
   "codemirror_mode": {
    "name": "ipython",
    "version": 3
   },
   "file_extension": ".py",
   "mimetype": "text/x-python",
   "name": "python",
   "nbconvert_exporter": "python",
   "pygments_lexer": "ipython3",
   "version": "3.6.5"
  }
 },
 "nbformat": 4,
 "nbformat_minor": 2
}
