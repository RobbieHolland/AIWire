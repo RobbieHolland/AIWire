{
 "cells": [
  {
   "cell_type": "code",
   "execution_count": null,
   "metadata": {
    "colab": {
     "base_uri": "https://localhost:8080/",
     "height": 221
    },
    "colab_type": "code",
    "id": "7xLc3CAJHsf2",
    "outputId": "8252e161-fe4f-475a-d5f8-666db38f3d3a"
   },
   "outputs": [],
   "source": [
    "# Clone the entire repo.\n",
    "!git clone -l -s git://github.com/RobbieHolland/AIWire.git\n",
    "%cd AIWire\n",
    "!ls"
   ]
  },
  {
   "cell_type": "code",
   "execution_count": null,
   "metadata": {
    "colab": {
     "base_uri": "https://localhost:8080/",
     "height": 122
    },
    "colab_type": "code",
    "id": "wsZiZPAps8JZ",
    "outputId": "0d9409bb-8e65-42aa-dcef-9c9e8243f5d1"
   },
   "outputs": [],
   "source": [
    "from google.colab import drive\n",
    "drive.mount('/content/drive')"
   ]
  },
  {
   "cell_type": "code",
   "execution_count": 3,
   "metadata": {},
   "outputs": [
    {
     "name": "stdout",
     "output_type": "stream",
     "text": [
      "classical_segmentation.ipynb  logs\t    Segnet.py\r\n",
      "dataset.py\t\t      __pycache__   Unet_pytorch.py\r\n",
      "load_data.py\t\t      saved_models  UNet_segmentation.ipynb\r\n"
     ]
    }
   ],
   "source": [
    "import sys\n",
    "sys.path.append(\"../\") # go to parent dir\n",
    "sys.path.append(\"../extract_centerline/\")\n",
    "sys.path.append(\"../extract_centerline/bin/\")\n",
    "!ls"
   ]
  },
  {
   "cell_type": "code",
   "execution_count": 77,
   "metadata": {
    "colab": {
     "base_uri": "https://localhost:8080/",
     "height": 17
    },
    "colab_type": "code",
    "id": "RhWYGpmxtv7O",
    "outputId": "3d40276f-88bc-467e-b356-1621a6df3a6c"
   },
   "outputs": [
    {
     "data": {
      "text/html": [],
      "text/plain": [
       "<IPython.core.display.HTML object>"
      ]
     },
     "metadata": {},
     "output_type": "display_data"
    }
   ],
   "source": [
    "# Import libraries \n",
    "import time\n",
    "import torch\n",
    "import matplotlib.pyplot as plt\n",
    "import matplotlib.gridspec as gridspec\n",
    "import matplotlib.cm as cm\n",
    "import numpy as np\n",
    "from tqdm.notebook import tqdm\n",
    "import wireskeletonise \n",
    "from PIL import Image\n",
    "import subprocess \n",
    "\n",
    "# Use full browser width\n",
    "from IPython.core.display import display, HTML\n",
    "display(HTML(\"\"))"
   ]
  },
  {
   "cell_type": "code",
   "execution_count": 82,
   "metadata": {},
   "outputs": [],
   "source": [
    "def show_images(outputs, coords=None, height=10, title='', n=10):\n",
    "    fig = plt.figure(figsize=[height, 3])\n",
    "    for i, output in enumerate(outputs[:n]):\n",
    "        plt.subplot(1,n,i+1)\n",
    "        plt.axis('off')\n",
    "        plt.imshow(output, cmap='gray')\n",
    "        if coords: \n",
    "            colors = cm.rainbow(np.linspace(0, 1, len(coords)))\n",
    "            for pts,c in zip(coords,colors):\n",
    "                plt.scatter(pts[0,1],pts[0,0],color=c)\n",
    "        plt.title(title)\n",
    "    plt.show()"
   ]
  },
  {
   "cell_type": "markdown",
   "metadata": {
    "colab_type": "text",
    "id": "FmSZY6enHe7o"
   },
   "source": [
    "# (Option 1) Generate data\n",
    "Run the Matlab engine to call scripts that generate data"
   ]
  },
  {
   "cell_type": "code",
   "execution_count": null,
   "metadata": {},
   "outputs": [],
   "source": [
    "# python -m ipykernel install --user --name=my-virtualenv-name\n",
    "import matlab.engine\n",
    "\n",
    "# Show data\n",
    "eng_start = time.time()\n",
    "eng = matlab.engine.start_matlab()\n",
    "print('Engine start took', time.time() - eng_start, 'seconds')\n",
    "\n",
    "import pathlib\n",
    "import os\n",
    "_ = eng.addpath(os.path.join(str(pathlib.Path().absolute().parents[0]), 'simulation'))\n",
    "_ = eng.addpath(os.path.join(str(pathlib.Path().absolute().parents[0]), 'simulation/util'))"
   ]
  },
  {
   "cell_type": "code",
   "execution_count": null,
   "metadata": {
    "colab": {},
    "colab_type": "code",
    "id": "R88cn9VyHe7s",
    "outputId": "6b2f4ccf-02bb-4f8e-de0f-e4d7c79970ab"
   },
   "outputs": [],
   "source": [
    "data = []\n",
    "\n",
    "blur = 1.3\n",
    "im_size = eng.cell2mat([128.0, 64.0])\n",
    "sim_start = time.time()\n",
    "for i in range(5):\n",
    "#     pts, _ = eng.gen_spline_realistic(im_size, 100.0, 0.75, nargout = 2)\n",
    "    pts, _ = eng.gen_spline_realistic(im_size, 100.0, 0.75, nargout = 2)\n",
    "    ground_truth, simulated = eng.simulate(pts, im_size, 1.3, 1.0, 1.3, 10.0, 0.2, 0, 0, nargout=2)\n",
    "    \n",
    "    show_images([ground_truth, simulated])\n",
    "    \n",
    "# Most of the time is to set up the connection\n",
    "print('Simulation took', time.time() - sim_start, 'seconds')"
   ]
  },
  {
   "cell_type": "markdown",
   "metadata": {
    "colab_type": "text",
    "id": "aapWIxalHe8M"
   },
   "source": [
    "# (Option 2) Load data\n",
    "Load data saved in a <tt>.mat</tt> file"
   ]
  },
  {
   "cell_type": "code",
   "execution_count": 6,
   "metadata": {
    "colab": {},
    "colab_type": "code",
    "id": "6oAL36EJHe8P"
   },
   "outputs": [],
   "source": [
    "from load_data import *\n",
    "# X, y = load_data('/content/drive/My Drive/AIWIRE', 'dataset')\n",
    "X, y = load_data('.', '../data/iteration_1_dataset')"
   ]
  },
  {
   "cell_type": "code",
   "execution_count": 7,
   "metadata": {},
   "outputs": [
    {
     "name": "stdout",
     "output_type": "stream",
     "text": [
      "{'train': 1600, 'val': 400}\n"
     ]
    }
   ],
   "source": [
    "import dataset\n",
    "from sklearn.model_selection import train_test_split\n",
    "\n",
    "batch_size = 5\n",
    "test_length = round(y.shape[0] * 0.2)\n",
    "X_train, y_train, X_test, y_test = X[:-test_length], y[:-test_length], X[-test_length:], y[-test_length:]\n",
    "dataloaders = dataset.gen_dataloaders(X_train, X_test, y_train, y_test, batch_size)"
   ]
  },
  {
   "cell_type": "code",
   "execution_count": 8,
   "metadata": {
    "colab": {
     "base_uri": "https://localhost:8080/",
     "height": 265
    },
    "colab_type": "code",
    "id": "9pkgAYlIHe8Z",
    "outputId": "980bf193-5123-4176-f505-fe7f22bef874"
   },
   "outputs": [
    {
     "data": {
      "image/png": "[encoded data removed]",
      "text/plain": [
       "<Figure size 432x288 with 1 Axes>"
      ]
     },
     "metadata": {
      "needs_background": "light"
     },
     "output_type": "display_data"
    }
   ],
   "source": [
    "# Look at statistics of data\n",
    "h2 = plt.hist(X_train[0].reshape(-1,1), bins = 100, density = True, alpha=1)"
   ]
  },
  {
   "cell_type": "markdown",
   "metadata": {
    "colab_type": "text",
    "id": "sjiN76ZcHe8r"
   },
   "source": [
    "# Intensity-based Segmentation\n",
    "Here, we use a Laplace filter to do a basic intensity based segmentation"
   ]
  },
  {
   "cell_type": "code",
   "execution_count": 9,
   "metadata": {
    "colab": {},
    "colab_type": "code",
    "id": "bArUbEydHe8t"
   },
   "outputs": [],
   "source": [
    "# Segment data\n",
    "from sklearn.mixture import GaussianMixture\n",
    "import cv2\n",
    "\n",
    "# The background and the wire\n",
    "n_components = 2\n",
    "\n",
    "# model=GaussianMixture(n_components=n_components, means_init=[[0], [0.6]])\n",
    "# model.fit(X, y)\n",
    "\n",
    "def laplace_segmentation(image, threshold = 0.7):\n",
    "    lp = -cv2.Laplacian(image, cv2.CV_64F, ksize=15)\n",
    "    lp = lp - np.min(lp)\n",
    "    lp = lp / np.max(lp)\n",
    "    return lp > threshold"
   ]
  },
  {
   "cell_type": "code",
   "execution_count": 86,
   "metadata": {},
   "outputs": [],
   "source": [
    "def PtsListFromFile(_fileName):\n",
    "    ptsList = []\n",
    "    f = open(_fileName, 'r')\n",
    "    while(True):\n",
    "        line = f.readline()\n",
    "        if len(line) == 0:\n",
    "            break\n",
    "        vec = []\n",
    "        line = line.rstrip()\n",
    "        list = line.split()\n",
    "        for i in range(0, len(list)):\n",
    "            vec.append(float(list[i]))\n",
    "        ptsList.append(vec)\n",
    "    f.close()\n",
    "    return ptsList\n",
    "    img = img.astype(np.float32)\n",
    "\n",
    "\n",
    "def get_centerline(img,directory,name): \n",
    "    img = img.astype(np.float32)\n",
    "    os.chdir(\"../\")\n",
    "    file_dir = os.getcwd() + '/extract_centerline/example/'\n",
    "    wireskeletonise.preAmbrosini(img, file_dir+name)\n",
    "    os.chdir(file_dir)\n",
    "    result = subprocess.call(['sh','./extract_centerline.sh'])\n",
    "    pt_list = PtsListFromFile(file_dir + name + '.txt')\n",
    "    pts = np.array(pt_list)\n",
    "    centerline = np.zeros_like(img)\n",
    "    for ww in range(len(pts)):\n",
    "        centerline[int(pts[ww,1]),int(pts[ww,0])] = 1\n",
    "    os.chdir(directory)\n",
    "    return centerline\n",
    "\n",
    "def tip_distance(img_a,img_b):\n",
    "    [x,y] = np.where(img_a==1)\n",
    "    pts_a = np.vstack((x, y)).T\n",
    "    [x,y] = np.where(img_b==1)\n",
    "    pts_b = np.vstack((x, y)).T\n",
    "    dist = np.sqrt((pts_b[0,1] - pts_a[0,1])**2 + (pts_b[0,0] - pts_a[0,0])**2)\n",
    "    return dist,pts_a,pts_b"
   ]
  },
  {
   "cell_type": "code",
   "execution_count": 87,
   "metadata": {
    "colab": {},
    "colab_type": "code",
    "id": "f64P-g16He83",
    "scrolled": true
   },
   "outputs": [
    {
     "name": "stdout",
     "output_type": "stream",
     "text": [
      "/home/mmu18/Desktop/Projects/AIWire/segmentation\n",
      "/home/mmu18/Desktop/Projects/AIWire/segmentation\n",
      "Tip distance:  34.132096331752024\n"
     ]
    },
    {
     "data": {
      "image/png": "[encoded data removed]",
      "text/plain": [
       "<Figure size 720x216 with 5 Axes>"
      ]
     },
     "metadata": {
      "needs_background": "light"
     },
     "output_type": "display_data"
    },
    {
     "name": "stdout",
     "output_type": "stream",
     "text": [
      "Tip distance:  23.194827009486403\n"
     ]
    },
    {
     "data": {
      "image/png": "[encoded data removed]",
      "text/plain": [
       "<Figure size 720x216 with 5 Axes>"
      ]
     },
     "metadata": {
      "needs_background": "light"
     },
     "output_type": "display_data"
    },
    {
     "name": "stdout",
     "output_type": "stream",
     "text": [
      "Tip distance:  19.026297590440446\n"
     ]
    },
    {
     "data": {
      "image/png": "[encoded data removed]",
      "text/plain": [
       "<Figure size 720x216 with 5 Axes>"
      ]
     },
     "metadata": {
      "needs_background": "light"
     },
     "output_type": "display_data"
    }
   ],
   "source": [
    "%cd ../segmentation\n",
    "original_dir= os.getcwd()\n",
    "print(original_dir)\n",
    "\n",
    "\n",
    "# Show first few segmentations\n",
    "for i, (ground_truth, simulated) in enumerate(list(zip(y_test, X_test))[:3]):\n",
    "    centerline = get_centerline(laplace_segmentation(simulated),original_dir,'binary')\n",
    "    dist, gt_pts, cl_pts = tip_distance(ground_truth, centerline)\n",
    "    print(\"Tip distance: \", dist)\n",
    "    show_images([ground_truth, simulated, simulated > 0.45, laplace_segmentation(simulated),centerline],coords=[gt_pts,cl_pts])"
   ]
  },
  {
   "cell_type": "markdown",
   "metadata": {
    "colab_type": "text",
    "id": "FayYUyZ4He9M"
   },
   "source": [
    "# Random Forest Segmentation\n",
    "This is the first machine learning method we are using.\n"
   ]
  },
  {
   "cell_type": "markdown",
   "metadata": {
    "colab_type": "text",
    "id": "6bylQDdAHe9N"
   },
   "source": [
    "### Create the dataset\n",
    "Random forests predict each patch of the image by taking as input a larger, surrounding patch (to capture context)<br>\n",
    "Thus, <br>\n",
    "<b>y</b>: Patches of the image <br>\n",
    "<b>X</b>: Larger patches centered over each <b>y</b>"
   ]
  },
  {
   "cell_type": "code",
   "execution_count": null,
   "metadata": {
    "colab": {
     "base_uri": "https://localhost:8080/",
     "height": 477
    },
    "colab_type": "code",
    "id": "qi8m12JfHe9P",
    "outputId": "d547271f-51e4-44b7-864d-78c3b2c7af54"
   },
   "outputs": [],
   "source": [
    "from random import randint\n",
    "\n",
    "n_patches = 2000\n",
    "patch_dim = 10\n",
    "patches_sim, patches_gt = [], []\n",
    "for i in range(n_patches):\n",
    "    sample_train = X_train[i % len(X_train)]\n",
    "    sample_test  = y_train[i % len(y_train)]\n",
    "    tl = np.array([randint(0, sample_train.shape[i] - patch_dim - 1) for i in [0, 1]])\n",
    "    patches_sim.append(sample_train[tl[0]:tl[0] + patch_dim, tl[1]:tl[1] + patch_dim])\n",
    "    patches_gt.append(sample_test[tl[0]:tl[0] + patch_dim, tl[1]:tl[1] + patch_dim])\n",
    "\n",
    "for i, (patch_sim, patch_gt) in enumerate(list(zip(patches_sim, patches_gt))[:4]):\n",
    "    show_images([patch_sim, patch_gt])\n",
    "    \n",
    "patches_sim, patches_gt = np.array(patches_sim), np.array(patches_gt)\n",
    "w = 0\n",
    "c = patch_dim // 2\n",
    "print(c)\n",
    "print(list(range(c-w,c+w+1)))\n",
    "patch_labels = np.array([p[c - w:c + w + 1, c - w:c + w + 1] for p in patches_gt])\n",
    "X_patches = np.array(patches_sim).reshape(n_patches,-1)\n",
    "y_patches = np.array(patch_labels).reshape(n_patches,-1)"
   ]
  },
  {
   "cell_type": "markdown",
   "metadata": {
    "colab_type": "text",
    "id": "K3YXLbwaHe9X"
   },
   "source": [
    "### Train random forest classifier"
   ]
  },
  {
   "cell_type": "code",
   "execution_count": null,
   "metadata": {
    "colab": {
     "base_uri": "https://localhost:8080/",
     "height": 34
    },
    "colab_type": "code",
    "id": "t7O4zUwSHe9a",
    "outputId": "a3aa1e2f-df3b-4a6b-f090-6639ecd1e2dd",
    "scrolled": false
   },
   "outputs": [],
   "source": [
    "from sklearn.ensemble import RandomForestClassifier\n",
    "from sklearn.model_selection import train_test_split\n",
    "\n",
    "print('Class balance: ', np.sum(patch_labels) / np.prod(patch_labels.shape))\n",
    "# clf = RandomForestClassifier(max_depth=100)\n",
    "\n",
    "X_patches_train, X_patches_test, y_patches_train, y_patches_test = train_test_split(X_patches, y_patches, test_size=0.15, random_state=0)\n",
    "print(X_patches_train.shape, X_patches_test.shape, y_patches_train.shape, y_patches_test.shape)\n",
    "\n",
    "# clf = RandomForestClassifier(max_depth=100, class_weight = [{0: 1, 1:50}] * y_patches_train.shape[-1])\n",
    "clf = RandomForestClassifier(max_depth=100, class_weight = {0: 1, 1:50})\n",
    "clf.fit(X_patches_train, y_patches_train)\n",
    "preds = clf.predict(X_patches_test)"
   ]
  },
  {
   "cell_type": "markdown",
   "metadata": {
    "colab_type": "text",
    "id": "HW9S8_DsHe9d"
   },
   "source": [
    "### Make prediction on image\n",
    "To actually segment an image, we must do so patch-by-patch<br>\n",
    "Then collect the patches into the final segmentation"
   ]
  },
  {
   "cell_type": "code",
   "execution_count": null,
   "metadata": {
    "colab": {
     "base_uri": "https://localhost:8080/",
     "height": 578
    },
    "colab_type": "code",
    "id": "aYcnGKHzHe9e",
    "outputId": "4d1a82c6-365d-4209-d8e1-8f6ca601b110"
   },
   "outputs": [],
   "source": [
    "def rf_segmentation(image):\n",
    "    test_sample = np.array(image)\n",
    "    sample = np.pad(test_sample, patch_dim // 2 - w, mode='reflect')\n",
    "    \n",
    "    total_pred = np.zeros_like(test_sample)\n",
    "    for i in range(w, test_sample.shape[0] - 2*w, 2 * w + 1):\n",
    "        for j in range(w, test_sample.shape[1] - 2*w, 2 * w + 1):\n",
    "            patch = sample[i:i + patch_dim, j:j + patch_dim]\n",
    "            pred = clf.predict(patch.reshape(1,-1))\n",
    "            total_pred[i-w:i+w+1,j-w:j+w+1] = pred.reshape(2 * w + 1, 2 * w + 1)\n",
    "    return total_pred\n",
    "\n",
    "for i in range(3):\n",
    "    pred = rf_segmentation(X[i])\n",
    "    show_images([X[i], pred])"
   ]
  },
  {
   "cell_type": "markdown",
   "metadata": {},
   "source": [
    "# Evaluation\n",
    "pts, im_size, blur, thickness, ...\n",
    "   undersampling, undersampling_spread, tip_current, length_regression, verbose"
   ]
  },
  {
   "cell_type": "code",
   "execution_count": null,
   "metadata": {},
   "outputs": [],
   "source": [
    "# Load UNet\n",
    "save_path = 'saved_models/model_thin'\n",
    "\n",
    "import Unet_pytorch\n",
    "num_class = 1\n",
    "model = Unet_pytorch.UNet(num_class)\n",
    "device = torch.device(\"cuda: 0\" if torch.cuda.is_available() else \"cpu\")\n",
    "model.load_state_dict(torch.load(save_path, map_location=device))\n",
    "print(\"Using\", device)\n",
    "model = model.to(device)\n",
    "\n",
    "dataloaders = dataset.gen_dataloaders(X_train, X_test, y_train, y_test, batch_size)"
   ]
  },
  {
   "cell_type": "code",
   "execution_count": null,
   "metadata": {},
   "outputs": [],
   "source": [
    "def segmentation_methods(simulated):\n",
    "    laplace_seg = laplace_segmentation(simulated)\n",
    "    rf_seg = rf_segmentation(simulated)\n",
    "    seg_net = np.zeros_like(simulated)\n",
    "    unet_seg = model(torch.Tensor(simulated).unsqueeze(0).unsqueeze(0)).squeeze(0).squeeze(0).detach().numpy()\n",
    "    return laplace_seg, rf_seg, seg_net, unet_seg\n",
    "\n",
    "def MSE(segmentation, ground_truth_segmentation):\n",
    "    return np.square(segmentation - ground_truth_segmentation).reshape(segmentation.shape[0], -1).mean(axis = 1)\n",
    "    \n",
    "def evaluation_centerline(centerline, ground_truth_centerline):\n",
    "    pass"
   ]
  },
  {
   "cell_type": "code",
   "execution_count": null,
   "metadata": {},
   "outputs": [],
   "source": [
    "def evaluate_method(method, metric, n = None):\n",
    "    metrics = []\n",
    "    for i, (simulated, ground_truth) in tqdm(enumerate(dataloaders['val'])):\n",
    "        if n is not None and i >= n:\n",
    "            break\n",
    "        segmented = method(simulated.float().squeeze(1).detach().numpy())\n",
    "        metrics.append(metric(segmented, ground_truth.numpy()))\n",
    "    return np.array(metrics).mean()"
   ]
  },
  {
   "cell_type": "code",
   "execution_count": null,
   "metadata": {},
   "outputs": [],
   "source": [
    "methods = {'Laplace filter': lambda x: np.array([laplace_segmentation(x_i) for x_i in x]),\n",
    "           'Random forest': lambda x: np.array([rf_segmentation(x_i) for x_i in x]),\n",
    "           'UNet': lambda x: model(torch.Tensor(x).unsqueeze(1)).detach().numpy()}\n",
    "\n",
    "for name, method in methods.items():\n",
    "    score = evaluate_method(method, MSE, n = 20).mean()\n",
    "    print(f'{name} had MSE of {score}')\n"
   ]
  },
  {
   "cell_type": "markdown",
   "metadata": {},
   "source": [
    "## Ablation study"
   ]
  },
  {
   "cell_type": "code",
   "execution_count": null,
   "metadata": {
    "scrolled": false
   },
   "outputs": [],
   "source": [
    "im_size = eng.cell2mat([128.0, 64.0])\n",
    "eng.addpath('util/')\n",
    "\n",
    "def evaluate_ablation(methods, metric, parameters, loop_prob = 1, rng=1235):\n",
    "    eng.rng(rng)\n",
    "    pts, _ = eng.gen_spline_realistic(im_size, 100.0, loop_prob, nargout = 2)\n",
    "    \n",
    "    variants = [v for v in parameters.keys() if len(np.unique(parameters[v])) > 1]\n",
    "    if len(variants) != 1:\n",
    "        print(f'Warning, varying {len(variants)} parameter(s)')\n",
    "    variant = variants[0]\n",
    "    print(f'Varying {variant}...')\n",
    "    n_values = len(parameters[variant])\n",
    "\n",
    "    # Simulate the images for varying parameter\n",
    "    sim_start = time.time()\n",
    "    simulated_images, ground_truths = [], []\n",
    "    for b, u, us, tc in np.array(list(parameters.values())).T.tolist():\n",
    "        eng.rng(rng)\n",
    "        ground_truth, simulated = np.array(eng.simulate(pts, im_size, b, 1.0, u, us, tc, 0, 0, nargout=2))\n",
    "        simulated_images.append(simulated)\n",
    "        ground_truths.append(ground_truth)\n",
    "\n",
    "    # Segment using every method\n",
    "    simulated_images, ground_truths = np.array(simulated_images), np.array(ground_truths)\n",
    "    segmented, scores = {}, {}\n",
    "    for name, method in methods.items():\n",
    "        segmented[name] = method(simulated_images)\n",
    "        scores[name] = metric(segmented[name], ground_truths)\n",
    "        \n",
    "    # Visualising output for UNet only\n",
    "    show_images([ground_truths[0]], title = 'Ground truth', height = 20)\n",
    "    fig = plt.figure(figsize=[20, 5])\n",
    "    fig.suptitle(f'Segmentation output for varying {variant}\\n', fontsize=15)\n",
    "    ax = [plt.subplot(2,n_values,i+1) for i in range(2 * n_values)]\n",
    "    for i, (v, sim, out) in enumerate(zip(parameters[variant], simulated_images, segmented['UNet'])):\n",
    "        ax[i].imshow(sim, cmap='gray')\n",
    "        ax[i].axis('off')\n",
    "        ax[i].set_title(round(v, 2))\n",
    "        ax[i + n_values].axis('off')\n",
    "        ax[i + n_values].imshow(out.squeeze(0), cmap='gray')\n",
    "    ax[0].axis('on')\n",
    "    ax[0].set_yticklabels([])\n",
    "    ax[0].set_xticklabels([])\n",
    "    ax[0].set_ylabel('Input')\n",
    "    ax[n_values].axis('on')\n",
    "    ax[n_values].set_yticklabels([])\n",
    "    ax[n_values].set_xticklabels([])\n",
    "    ax[n_values].set_ylabel('Segmentation')\n",
    "    plt.subplots_adjust(wspace=-0.85, hspace=-0)\n",
    "    plt.show()\n",
    "\n",
    "    # Plotting performance of the metric against the changing parameter\n",
    "    fig = plt.figure(figsize=[10, 5])\n",
    "    for i, method in enumerate(methods.keys()):\n",
    "        plt.subplot(1,len(methods),i+1)\n",
    "        plt.plot(parameters[variant], scores[method], label = method)\n",
    "        plt.title(f'{metric.__name__} for {method} against\\n varying {variant}')\n",
    "        plt.xlabel(variant)\n",
    "        plt.ylabel(metric.__name__)\n",
    "    plt.tight_layout()\n",
    "    plt.show()\n",
    "    print('Evaluation took', time.time() - sim_start, 'seconds')\n",
    "\n",
    "n_values = 11\n",
    "def_parameters = {}\n",
    "def_parameters['Blur'] = [1.3] * n_values\n",
    "def_parameters['Undersampling factor'] = [1.3] * n_values\n",
    "def_parameters['Undersampling spread'] = [10.0] * n_values\n",
    "def_parameters['Tip current'] = [0.2] * n_values\n",
    "\n",
    "# Change parameter to vary\n",
    "parameters = def_parameters.copy()\n",
    "parameters['Tip current'] = np.linspace(0, 1, num=n_values).tolist()\n",
    "evaluate_ablation(methods, MSE, parameters, rng = 1238)\n",
    "\n",
    "parameters = def_parameters.copy()\n",
    "parameters['Undersampling factor'] = np.linspace(0.001, 20, num=n_values).tolist()\n",
    "evaluate_ablation(methods, MSE, parameters, rng = 1238)\n"
   ]
  },
  {
   "cell_type": "code",
   "execution_count": null,
   "metadata": {},
   "outputs": [],
   "source": []
  }
 ],
 "metadata": {
  "accelerator": "GPU",
  "colab": {
   "name": "segmentation.ipynb",
   "provenance": [],
   "toc_visible": true
  },
  "kernelspec": {
   "display_name": "DLpy3",
   "language": "python",
   "name": "dlpy3"
  },
  "language_info": {
   "codemirror_mode": {
    "name": "ipython",
    "version": 3
   },
   "file_extension": ".py",
   "mimetype": "text/x-python",
   "name": "python",
   "nbconvert_exporter": "python",
   "pygments_lexer": "ipython3",
   "version": "3.6.9"
  }
 },
 "nbformat": 4,
 "nbformat_minor": 1
}
