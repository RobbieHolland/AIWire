{
 "cells": [
  {
   "cell_type": "code",
   "execution_count": null,
   "metadata": {
    "colab": {
     "base_uri": "https://localhost:8080/",
     "height": 221
    },
    "colab_type": "code",
    "id": "7xLc3CAJHsf2",
    "outputId": "8252e161-fe4f-475a-d5f8-666db38f3d3a"
   },
   "outputs": [],
   "source": [
    "# Clone the entire repo.\n",
    "!git clone -l -s git://github.com/RobbieHolland/AIWire.git\n",
    "%cd AIWire\n",
    "!ls"
   ]
  },
  {
   "cell_type": "code",
   "execution_count": null,
   "metadata": {
    "colab": {
     "base_uri": "https://localhost:8080/",
     "height": 122
    },
    "colab_type": "code",
    "id": "wsZiZPAps8JZ",
    "outputId": "0d9409bb-8e65-42aa-dcef-9c9e8243f5d1"
   },
   "outputs": [],
   "source": [
    "from google.colab import drive\n",
    "drive.mount('/content/drive')"
   ]
  },
  {
   "cell_type": "code",
   "execution_count": 4,
   "metadata": {
    "colab": {
     "base_uri": "https://localhost:8080/",
     "height": 17
    },
    "colab_type": "code",
    "id": "RhWYGpmxtv7O",
    "outputId": "3d40276f-88bc-467e-b356-1621a6df3a6c"
   },
   "outputs": [
    {
     "data": {
      "text/html": [],
      "text/plain": [
       "<IPython.core.display.HTML object>"
      ]
     },
     "metadata": {},
     "output_type": "display_data"
    }
   ],
   "source": [
    "# Import libraries \n",
    "import time\n",
    "import matplotlib.pyplot as plt\n",
    "import numpy as np\n",
    "# Use full browser width\n",
    "from IPython.core.display import display, HTML\n",
    "display(HTML(\"\"))\n"
   ]
  },
  {
   "cell_type": "markdown",
   "metadata": {
    "colab_type": "text",
    "id": "FmSZY6enHe7o"
   },
   "source": [
    "# (Option 1) Generate data\n",
    "Run the Matlab engine to call scripts that generate data"
   ]
  },
  {
   "cell_type": "code",
   "execution_count": null,
   "metadata": {
    "colab": {},
    "colab_type": "code",
    "id": "GnobZsqUHseE"
   },
   "outputs": [],
   "source": [
    "# Fetch a single <1MB file using the raw GitHub URL.\n",
    "!curl --remote-name \\\n",
    "     -H 'Accept: application/vnd.github.v3.raw' \\\n",
    "     --location https://api.github.com/repos/jakevdp/PythonDataScienceHandbook/contents/notebooks/data/california_cities.csv"
   ]
  },
  {
   "cell_type": "code",
   "execution_count": null,
   "metadata": {
    "colab": {},
    "colab_type": "code",
    "id": "R88cn9VyHe7s",
    "outputId": "6b2f4ccf-02bb-4f8e-de0f-e4d7c79970ab"
   },
   "outputs": [],
   "source": [
    "# python -m ipykernel install --user --name=my-virtualenv-name\n",
    "import matlab.engine\n",
    "\n",
    "# Show data\n",
    "eng_start = time.time()\n",
    "eng = matlab.engine.start_matlab()\n",
    "print('Engine start took', time.time() - eng_start, 'seconds')\n",
    "\n",
    "data = []\n",
    "\n",
    "blur = 1.3\n",
    "sim_start = time.time()\n",
    "for i in range(5):\n",
    "    ground_truth, simulated = eng.simulate(blur, 15, 0, nargout=2)\n",
    "    \n",
    "    plt.subplot(121)\n",
    "    plt.imshow(ground_truth, cmap='gray')\n",
    "    \n",
    "    plt.subplot(122)\n",
    "    plt.imshow(simulated, cmap='gray')\n",
    "    plt.show()\n",
    "    \n",
    "# Most of the time is to set up the connection\n",
    "print('Simulation took', time.time() - sim_start, 'seconds')"
   ]
  },
  {
   "cell_type": "code",
   "execution_count": null,
   "metadata": {
    "colab": {},
    "colab_type": "code",
    "id": "at7iEpQpHe8G",
    "outputId": "fd37980b-4bc9-45c2-bb28-dd55176e742c"
   },
   "outputs": [],
   "source": [
    "from tqdm import tqdm\n",
    "\n",
    "# Generate data\n",
    "N = 200\n",
    "X, y = [], []\n",
    "\n",
    "for i in tqdm(range(N)):\n",
    "    ground_truth, simulated = eng.simulate(blur, 15, 0, nargout=2)\n",
    "    X += [simulated]\n",
    "    y += [ground_truth]\n",
    "    \n",
    "X, y = np.array(X), np.array(y)"
   ]
  },
  {
   "cell_type": "markdown",
   "metadata": {
    "colab_type": "text",
    "id": "aapWIxalHe8M"
   },
   "source": [
    "# (Option 2) Load data\n",
    "Load data saved in a <tt>.mat</tt> file"
   ]
  },
  {
   "cell_type": "code",
   "execution_count": 6,
   "metadata": {
    "colab": {},
    "colab_type": "code",
    "id": "6oAL36EJHe8P"
   },
   "outputs": [],
   "source": [
    "from load_data import *\n",
    "# X, y = load_data('/content/drive/My Drive/AIWIRE', 'dataset')\n",
    "X, y = load_data('.', 'dataset')"
   ]
  },
  {
   "cell_type": "code",
   "execution_count": 7,
   "metadata": {
    "colab": {
     "base_uri": "https://localhost:8080/",
     "height": 265
    },
    "colab_type": "code",
    "id": "9pkgAYlIHe8Z",
    "outputId": "980bf193-5123-4176-f505-fe7f22bef874"
   },
   "outputs": [
    {
     "data": {
      "image/png": "[encoded data removed]",
      "text/plain": [
       "<matplotlib.figure.Figure at 0x7fd92e8a8860>"
      ]
     },
     "metadata": {
      "needs_background": "light"
     },
     "output_type": "display_data"
    }
   ],
   "source": [
    "# Look at statistics of data\n",
    "h2 = plt.hist(X[0].reshape(-1,1), bins = 100, density = True, alpha=1)"
   ]
  },
  {
   "cell_type": "markdown",
   "metadata": {
    "colab_type": "text",
    "id": "9S4ntfInHe8d"
   },
   "source": [
    "# Preprocessing\n",
    "It might be advantageous to smooth the data and use simple edge detection to crudely highlight the wire.\n",
    "\n",
    "Here we evaluate some preprocessing (but do not yet apply it to the training set)"
   ]
  },
  {
   "cell_type": "code",
   "execution_count": null,
   "metadata": {
    "colab": {
     "base_uri": "https://localhost:8080/",
     "height": 521
    },
    "colab_type": "code",
    "id": "H_snqbNvHe8e",
    "outputId": "34c09e85-0871-4651-d917-03d2e2de47ab"
   },
   "outputs": [],
   "source": [
    "import cv2\n",
    "ex = X[0]\n",
    "kernel = np.ones((5,5),np.float32)/(5*5)\n",
    "ex = cv2.filter2D(ex,-1,kernel)\n",
    "plt.imshow(ex,cmap = 'gray')\n",
    "plt.show()\n",
    "\n",
    "ex = ex - np.min(ex)\n",
    "ex = 255 * ex / np.max(ex)\n",
    "ex = np.uint8(ex)\n",
    "edges = cv2.Canny(ex,20,90)\n",
    "\n",
    "plt.imshow(edges,cmap = 'gray')\n",
    "plt.show()"
   ]
  },
  {
   "cell_type": "markdown",
   "metadata": {
    "colab_type": "text",
    "id": "sjiN76ZcHe8r"
   },
   "source": [
    "# Intensity-based Segmentation\n",
    "Here, we use a GMM to do a basic intensity based segmentation"
   ]
  },
  {
   "cell_type": "code",
   "execution_count": null,
   "metadata": {
    "colab": {},
    "colab_type": "code",
    "id": "bArUbEydHe8t"
   },
   "outputs": [],
   "source": [
    "# Segment data\n",
    "from sklearn.mixture import GaussianMixture\n",
    "import cv2\n",
    "\n",
    "# The background and the wire\n",
    "n_components = 2\n",
    "\n",
    "model=GaussianMixture(n_components=n_components, means_init=[[0], [5]])\n",
    "\n",
    "segmentations_gmm = []\n",
    "segmentations_threshold = []\n",
    "segmentations_edge = []\n",
    "\n",
    "for datum in X:\n",
    "        \n",
    "    # Threshold segmentation\n",
    "    segmentations_threshold += [datum > 10]\n",
    "    \n",
    "    # Laplace filter\n",
    "    lp = -cv2.Laplacian(datum, cv2.CV_64F, ksize=15)\n",
    "    lp = lp - np.min(lp)\n",
    "    lp = lp / np.max(lp)\n",
    "    segmentations_edge += [lp]\n",
    "#     segmentations_edge += [cv2.Sobel(datum,cv2.CV_64F,1,0,ksize=5)]\n"
   ]
  },
  {
   "cell_type": "markdown",
   "metadata": {
    "colab_type": "text",
    "id": "hPGVtSVhHe81"
   },
   "source": [
    "## Results\n",
    "\n",
    "Clearly, the GMM is not very good since the noise can have the same intensity as the wire.\n"
   ]
  },
  {
   "cell_type": "code",
   "execution_count": null,
   "metadata": {
    "colab": {},
    "colab_type": "code",
    "id": "f64P-g16He83"
   },
   "outputs": [],
   "source": [
    "# Show first few segmentations\n",
    "for i, (seg_gmm, seg_thresh, seg_edge, ground_truth, simulated) in enumerate(list(zip(segmentations_gmm, segmentations_threshold, segmentations_edge, y, X))[:3]):\n",
    "    plt.figure(figsize=(12, 12))\n",
    "    plt.subplot(141)\n",
    "    plt.imshow(ground_truth, cmap='gray')\n",
    "    plt.axis('off')\n",
    "\n",
    "    plt.subplot(142)\n",
    "    plt.imshow(simulated, cmap='gray')\n",
    "    plt.axis('off')\n",
    "\n",
    "    plt.subplot(143)\n",
    "    plt.imshow(seg_gmm, cmap='gray')\n",
    "    plt.axis('off')\n",
    "    \n",
    "    plt.subplot(144)\n",
    "    plt.imshow(seg_thresh, cmap='gray')\n",
    "    plt.axis('off')\n",
    "    plt.show()"
   ]
  },
  {
   "cell_type": "markdown",
   "metadata": {
    "colab_type": "text",
    "id": "vmC8IVH4He89"
   },
   "source": [
    "The Laplace filter followed by a threshold provides very accurate segmenations, with some noise"
   ]
  },
  {
   "cell_type": "code",
   "execution_count": null,
   "metadata": {
    "colab": {
     "base_uri": "https://localhost:8080/",
     "height": 578
    },
    "colab_type": "code",
    "id": "kZpfDkjTHe8-",
    "outputId": "3d5eee2d-6194-491f-a090-f84386a08dc4"
   },
   "outputs": [],
   "source": [
    "# Show first few segmentations\n",
    "for i, (seg_edge, ground_truth, simulated) in enumerate(list(zip(segmentations_edge, y, X))[:3]):\n",
    "    plt.figure(figsize=(12, 12))\n",
    "    plt.subplot(151)\n",
    "    plt.imshow(ground_truth, cmap='gray')\n",
    "    plt.axis('off')\n",
    "\n",
    "    plt.subplot(152)\n",
    "    plt.imshow(simulated, cmap='gray')\n",
    "    plt.axis('off')\n",
    "\n",
    "    plt.subplot(153)\n",
    "    plt.imshow(seg_edge, cmap='gray')\n",
    "    plt.axis('off')\n",
    "    \n",
    "    plt.subplot(154)\n",
    "    plt.imshow(seg_edge > (0.62), cmap='gray')\n",
    "    plt.axis('off')\n",
    "    \n",
    "    plt.show()"
   ]
  },
  {
   "cell_type": "markdown",
   "metadata": {
    "colab_type": "text",
    "id": "FayYUyZ4He9M"
   },
   "source": [
    "# Random Forest Segmentation\n",
    "This is the first machine learning method we are using."
   ]
  },
  {
   "cell_type": "markdown",
   "metadata": {
    "colab_type": "text",
    "id": "6bylQDdAHe9N"
   },
   "source": [
    "### Create the dataset\n",
    "Random forests predict each patch of the image by taking as input a larger, surrounding patch (to capture context)<br>\n",
    "Thus, <br>\n",
    "<b>y</b>: Patches of the image <br>\n",
    "<b>X</b>: Larger patches centered over each <b>y</b>"
   ]
  },
  {
   "cell_type": "code",
   "execution_count": null,
   "metadata": {
    "colab": {
     "base_uri": "https://localhost:8080/",
     "height": 477
    },
    "colab_type": "code",
    "id": "qi8m12JfHe9P",
    "outputId": "d547271f-51e4-44b7-864d-78c3b2c7af54"
   },
   "outputs": [],
   "source": [
    "from random import randint\n",
    "\n",
    "n_patches = 3000\n",
    "patch_dim = 101\n",
    "patches_sim, patches_gt = [], []\n",
    "for i in range(n_patches):\n",
    "    sample_train = X[i % len(X)]\n",
    "    sample_test  = y[i % len(y)]\n",
    "    tl = np.array([randint(0, sample_train.shape[i] - patch_dim - 1) for i in [0, 1]])\n",
    "    patches_sim.append(sample_train[tl[0]:tl[0] + patch_dim, tl[1]:tl[1] + patch_dim])\n",
    "    patches_gt.append(sample_test[tl[0]:tl[0] + patch_dim, tl[1]:tl[1] + patch_dim])\n",
    "\n",
    "for i, (patch_sim, patch_gt) in enumerate(list(zip(patches_sim, patches_gt))[:4]):\n",
    "    plt.figure(figsize=(4, 4))\n",
    "    plt.subplot(121)\n",
    "    plt.imshow(patch_sim, cmap='gray')\n",
    "    plt.axis('off')\n",
    "    \n",
    "    plt.subplot(122)\n",
    "    plt.imshow(patch_gt, cmap='gray')\n",
    "    plt.axis('off')\n",
    "    \n",
    "patches_sim, patches_gt = np.array(patches_sim), np.array(patches_gt)\n",
    "w = 3\n",
    "c = patch_dim // 2\n",
    "patch_labels = np.array([p[c - w:c + w, c - w:c + w] for p in patches_gt])\n",
    "X_patches = np.array(patches_sim).reshape(n_patches,-1)\n",
    "y_patches = np.array(patch_labels).reshape(n_patches,-1)"
   ]
  },
  {
   "cell_type": "markdown",
   "metadata": {
    "colab_type": "text",
    "id": "K3YXLbwaHe9X"
   },
   "source": [
    "### Train random forest classifier"
   ]
  },
  {
   "cell_type": "code",
   "execution_count": null,
   "metadata": {
    "colab": {
     "base_uri": "https://localhost:8080/",
     "height": 34
    },
    "colab_type": "code",
    "id": "t7O4zUwSHe9a",
    "outputId": "a3aa1e2f-df3b-4a6b-f090-6639ecd1e2dd",
    "scrolled": false
   },
   "outputs": [],
   "source": [
    "from sklearn.ensemble import RandomForestClassifier\n",
    "from sklearn.model_selection import train_test_split\n",
    "\n",
    "print('Class balance: ', np.sum(patch_labels) / np.prod(patch_labels.shape))\n",
    "clf = RandomForestClassifier(max_depth=100)\n",
    "\n",
    "X_train, X_test, y_test, y_train = train_test_split(X_patches, y_patches, test_size=0.15, random_state=0)\n",
    "\n",
    "clf.fit(X_train, y_test)\n",
    "preds = clf.predict(X_test)"
   ]
  },
  {
   "cell_type": "markdown",
   "metadata": {
    "colab_type": "text",
    "id": "HW9S8_DsHe9d"
   },
   "source": [
    "### Make prediction on image\n",
    "To actually segment an image, we must do so patch-by-patch<br>\n",
    "Then collect the patches into the final segmentation"
   ]
  },
  {
   "cell_type": "code",
   "execution_count": null,
   "metadata": {
    "colab": {
     "base_uri": "https://localhost:8080/",
     "height": 578
    },
    "colab_type": "code",
    "id": "aYcnGKHzHe9e",
    "outputId": "4d1a82c6-365d-4209-d8e1-8f6ca601b110"
   },
   "outputs": [],
   "source": [
    "def rf_predict(image):\n",
    "    test_sample = np.array(image)\n",
    "    sample = np.pad(test_sample, patch_dim // 2 - w, mode='reflect')\n",
    "    \n",
    "    total_pred = np.zeros_like(test_sample)\n",
    "    for i in range(w, test_sample.shape[0] - 2*w, 2 * w):\n",
    "        for j in range(w, test_sample.shape[1] - 2*w, 2 * w):\n",
    "            patch = sample[i:i + patch_dim, j:j + patch_dim]\n",
    "            pred = clf.predict(patch.reshape(1,-1))\n",
    "\n",
    "            total_pred[i-w:i+w,j-w:j+w] = pred.reshape(6,6)\n",
    "    return total_pred\n",
    "\n",
    "for i in range(3):\n",
    "    pred = rf_predict(X[i])\n",
    "    plt.figure(figsize=(4, 4))\n",
    "    plt.subplot(121)\n",
    "    plt.imshow(X[i], cmap='gray')\n",
    "    plt.subplot(122)\n",
    "    plt.imshow(pred, cmap='gray')"
   ]
  }
 ],
 "metadata": {
  "accelerator": "GPU",
  "colab": {
   "name": "segmentation.ipynb",
   "provenance": [],
   "toc_visible": true
  },
  "kernelspec": {
   "display_name": "Python 3",
   "language": "python",
   "name": "python3"
  },
  "language_info": {
   "codemirror_mode": {
    "name": "ipython",
    "version": 3
   },
   "file_extension": ".py",
   "mimetype": "text/x-python",
   "name": "python",
   "nbconvert_exporter": "python",
   "pygments_lexer": "ipython3",
   "version": "3.6.7"
  }
 },
 "nbformat": 4,
 "nbformat_minor": 1
}
